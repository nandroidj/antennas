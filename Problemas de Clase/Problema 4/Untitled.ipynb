{
 "cells": [
  {
   "cell_type": "code",
   "execution_count": 1,
   "metadata": {},
   "outputs": [
    {
     "ename": "SyntaxError",
     "evalue": "invalid syntax (<ipython-input-1-787c73471bfa>, line 4)",
     "output_type": "error",
     "traceback": [
      "\u001b[0;36m  File \u001b[0;32m\"<ipython-input-1-787c73471bfa>\"\u001b[0;36m, line \u001b[0;32m4\u001b[0m\n\u001b[0;31m    A linear broadside array of short vertical dipoles\u001b[0m\n\u001b[0m           ^\u001b[0m\n\u001b[0;31mSyntaxError\u001b[0m\u001b[0;31m:\u001b[0m invalid syntax\n"
     ]
    }
   ],
   "source": [
    "import sage\n",
    "\n",
    "\n",
    "A linear broadside array of short vertical dipoles\n",
    "# located along the z axis with 1/2 wavelength spacing\n",
    "var('r, theta')\n",
    "N = 7\n",
    "normalized_element_pattern = sin(theta)\n",
    "array_factor = 1 / N * sin(N * pi / 2 * cos(theta)) \n",
    "/ sin(pi / 2 * cos(theta))\n",
    "array_plot = polar_plot(abs(array_factor), (theta, 0, pi),\n",
    "     color='red', legend_label='Array')\n",
    "radiation_plot = polar_plot(abs(normalized_element_pattern\n",
    "     * array_factor), (theta, 0, pi), color='blue',\n",
    "     legend_label='Radiation')\n",
    "combined_plot = array_plot + radiation_plot\n",
    "combined_plot.xmin(-0.25)\n",
    "combined_plot.xmax(0.25)\n",
    "combined_plot.set_legend_options(loc=(0.5, 0.3))\n",
    "show(combined_plot, figsize=(2, 5), aspect_ratio=1)"
   ]
  },
  {
   "cell_type": "code",
   "execution_count": null,
   "metadata": {},
   "outputs": [],
   "source": []
  }
 ],
 "metadata": {
  "kernelspec": {
   "display_name": "Python 3",
   "language": "python",
   "name": "python3"
  },
  "language_info": {
   "codemirror_mode": {
    "name": "ipython",
    "version": 3
   },
   "file_extension": ".py",
   "mimetype": "text/x-python",
   "name": "python",
   "nbconvert_exporter": "python",
   "pygments_lexer": "ipython3",
   "version": "3.7.5"
  }
 },
 "nbformat": 4,
 "nbformat_minor": 4
}
