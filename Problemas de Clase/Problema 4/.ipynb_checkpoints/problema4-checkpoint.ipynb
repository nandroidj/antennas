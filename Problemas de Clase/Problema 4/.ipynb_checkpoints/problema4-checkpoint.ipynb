{
 "cells": [
  {
   "cell_type": "markdown",
   "metadata": {},
   "source": [
    "Considere dos focos isotrópicos, alimentados por la intensidad de corriente I0 , separados por una distancia d, que operan a una longitud de onda λ, y un observador lejos de los focos, con las fases de cada foco como se encuentran en la siguiente Figura:\n",
    "\n",
    "\n",
    "Se pide:\n",
    "\n",
    "a) para el caso de φ = π/2 y para el máximo de la función del conjunto (AF), obtener en ese caso d/λ y α.\n",
    "\n",
    "b) para el caso de φ = 0 y para el máximo de la función del conjunto, obtener en ese caso d/λ y α\n",
    "\n",
    "Nota: Representar graficamente la función del conjunto AF (x, y) considerando las variables x = d/λ y y = α donde se pueda observar el máximo de AF en cada caso.\n"
   ]
  },
  {
   "cell_type": "code",
   "execution_count": 8,
   "metadata": {},
   "outputs": [],
   "source": [
    "import math\n",
    "import numpy as np\n",
    "from sympy import Symbol\n",
    "\n",
    "import sage\n"
   ]
  },
  {
   "cell_type": "code",
   "execution_count": 28,
   "metadata": {},
   "outputs": [
    {
     "ename": "NameError",
     "evalue": "name 'var' is not defined",
     "output_type": "error",
     "traceback": [
      "\u001b[0;31m---------------------------------------------------------------------------\u001b[0m",
      "\u001b[0;31mNameError\u001b[0m                                 Traceback (most recent call last)",
      "\u001b[0;32m<ipython-input-28-c4fc2b14bc78>\u001b[0m in \u001b[0;36m<module>\u001b[0;34m\u001b[0m\n\u001b[1;32m      1\u001b[0m \u001b[0mpi\u001b[0m \u001b[0;34m=\u001b[0m \u001b[0mmath\u001b[0m\u001b[0;34m.\u001b[0m\u001b[0mpi\u001b[0m\u001b[0;34m\u001b[0m\u001b[0;34m\u001b[0m\u001b[0m\n\u001b[1;32m      2\u001b[0m \u001b[0;34m\u001b[0m\u001b[0m\n\u001b[0;32m----> 3\u001b[0;31m \u001b[0msage\u001b[0m \u001b[0;34m:\u001b[0m \u001b[0mvar\u001b[0m\u001b[0;34m(\u001b[0m\u001b[0;34m'x,y'\u001b[0m\u001b[0;34m)\u001b[0m\u001b[0;34m\u001b[0m\u001b[0;34m\u001b[0m\u001b[0m\n\u001b[0m\u001b[1;32m      4\u001b[0m \u001b[0;34m\u001b[0m\u001b[0m\n\u001b[1;32m      5\u001b[0m \u001b[0mN\u001b[0m \u001b[0;34m=\u001b[0m \u001b[0;36m2\u001b[0m \u001b[0;31m# numero de elementos\u001b[0m\u001b[0;34m\u001b[0m\u001b[0;34m\u001b[0m\u001b[0m\n",
      "\u001b[0;31mNameError\u001b[0m: name 'var' is not defined"
     ]
    }
   ],
   "source": [
    "pi = math.pi\n",
    "\n",
    "sage : var('x,y')\n",
    "    \n",
    "N = 2 # numero de elementos\n",
    "d_l = None # l = longitud de onda; d = separacion entre elementos"
   ]
  },
  {
   "cell_type": "markdown",
   "metadata": {},
   "source": [
    " a) para el caso de φ = π/2 y para el máximo de la función del conjunto (AF), obtener en ese caso d/λ y α."
   ]
  },
  {
   "cell_type": "markdown",
   "metadata": {},
   "source": [
    "El maximo principal se encuentra en N*psi/2 = 0 => psi = 0 sii cos(phi) = -alpha/beta*d\n",
    "\n",
    "En este caso, cuando phi = pi/2 => alpha = 0. Conocida como la condicion de **Broadside**."
   ]
  },
  {
   "cell_type": "code",
   "execution_count": 27,
   "metadata": {},
   "outputs": [
    {
     "ename": "TypeError",
     "evalue": "unsupported operand type(s) for *: 'float' and 'NoneType'",
     "output_type": "error",
     "traceback": [
      "\u001b[0;31m---------------------------------------------------------------------------\u001b[0m",
      "\u001b[0;31mTypeError\u001b[0m                                 Traceback (most recent call last)",
      "\u001b[0;32m<ipython-input-27-011ffe936d2e>\u001b[0m in \u001b[0;36m<module>\u001b[0;34m\u001b[0m\n\u001b[1;32m      3\u001b[0m \u001b[0;34m\u001b[0m\u001b[0m\n\u001b[1;32m      4\u001b[0m \u001b[0;34m\u001b[0m\u001b[0m\n\u001b[0;32m----> 5\u001b[0;31m \u001b[0mpsi\u001b[0m \u001b[0;34m=\u001b[0m \u001b[0;36m2\u001b[0m\u001b[0;34m*\u001b[0m\u001b[0mpi\u001b[0m \u001b[0;34m*\u001b[0m \u001b[0md_l\u001b[0m \u001b[0;34m*\u001b[0m \u001b[0mnp\u001b[0m\u001b[0;34m.\u001b[0m\u001b[0mcos\u001b[0m\u001b[0;34m(\u001b[0m\u001b[0mphi\u001b[0m\u001b[0;34m)\u001b[0m \u001b[0;34m+\u001b[0m \u001b[0ma\u001b[0m\u001b[0;34m\u001b[0m\u001b[0;34m\u001b[0m\u001b[0m\n\u001b[0m\u001b[1;32m      6\u001b[0m \u001b[0;34m\u001b[0m\u001b[0m\n\u001b[1;32m      7\u001b[0m \u001b[0mAF\u001b[0m \u001b[0;34m=\u001b[0m \u001b[0;34m(\u001b[0m\u001b[0;36m1\u001b[0m\u001b[0;34m/\u001b[0m\u001b[0mN\u001b[0m\u001b[0;34m)\u001b[0m\u001b[0;34m*\u001b[0m\u001b[0mnp\u001b[0m\u001b[0;34m.\u001b[0m\u001b[0msin\u001b[0m\u001b[0;34m(\u001b[0m\u001b[0mN\u001b[0m\u001b[0;34m*\u001b[0m\u001b[0mpsi\u001b[0m\u001b[0;34m/\u001b[0m\u001b[0;36m2\u001b[0m\u001b[0;34m)\u001b[0m\u001b[0;34m/\u001b[0m\u001b[0mnp\u001b[0m\u001b[0;34m.\u001b[0m\u001b[0msin\u001b[0m\u001b[0;34m(\u001b[0m\u001b[0mpsi\u001b[0m\u001b[0;34m/\u001b[0m\u001b[0;36m2\u001b[0m\u001b[0;34m)\u001b[0m\u001b[0;34m\u001b[0m\u001b[0;34m\u001b[0m\u001b[0m\n",
      "\u001b[0;31mTypeError\u001b[0m: unsupported operand type(s) for *: 'float' and 'NoneType'"
     ]
    }
   ],
   "source": [
    "phi = pi/2\n",
    "alpha = 0 # alpha\n",
    "\n",
    "\n",
    "psi = 2*pi * d_l * np.cos(phi) + a\n",
    "\n",
    "AF = (1/N)*np.sin(N*psi/2)/np.sin(psi/2)"
   ]
  },
  {
   "cell_type": "code",
   "execution_count": null,
   "metadata": {},
   "outputs": [],
   "source": [
    " A linear broadside array of short vertical dipoles\n",
    "# located along the z axis with 1/2 wavelength spacing\n",
    "var('r, theta')\n",
    "N = 7\n",
    "normalized_element_pattern = sin(theta)\n",
    "array_factor = 1 / N * sin(N * pi / 2 * cos(theta)) \n",
    "/ sin(pi / 2 * cos(theta))\n",
    "array_plot = polar_plot(abs(array_factor), (theta, 0, pi),\n",
    "     color='red', legend_label='Array')\n",
    "radiation_plot = polar_plot(abs(normalized_element_pattern\n",
    "     * array_factor), (theta, 0, pi), color='blue',\n",
    "     legend_label='Radiation')\n",
    "combined_plot = array_plot + radiation_plot\n",
    "combined_plot.xmin(-0.25)\n",
    "combined_plot.xmax(0.25)\n",
    "combined_plot.set_legend_options(loc=(0.5, 0.3))\n",
    "show(combined_plot, figsize=(2, 5), aspect_ratio=1)"
   ]
  }
 ],
 "metadata": {
  "kernelspec": {
   "display_name": "Python 3",
   "language": "python",
   "name": "python3"
  },
  "language_info": {
   "codemirror_mode": {
    "name": "ipython",
    "version": 3
   },
   "file_extension": ".py",
   "mimetype": "text/x-python",
   "name": "python",
   "nbconvert_exporter": "python",
   "pygments_lexer": "ipython3",
   "version": "3.7.5"
  }
 },
 "nbformat": 4,
 "nbformat_minor": 4
}
