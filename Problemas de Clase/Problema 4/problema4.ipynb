{
 "cells": [
  {
   "cell_type": "markdown",
   "metadata": {},
   "source": [
    "Considere dos focos isotrópicos, alimentados por la intensidad de corriente I0 , separados por una distancia d, que operan a una longitud de onda λ, y un observador lejos de los focos, con las fases de cada foco como se encuentran en la siguiente Figura:\n",
    "\n",
    "\n",
    "Se pide:\n",
    "\n",
    "a) para el caso de φ = π/2 y para el máximo de la función del conjunto (AF), obtener en ese caso d/λ y α.\n",
    "\n",
    "b) para el caso de φ = 0 y para el máximo de la función del conjunto, obtener en ese caso d/λ y α\n",
    "\n",
    "Nota: Representar graficamente la función del conjunto AF (x, y) considerando las variables x = d/λ y y = α donde se pueda observar el máximo de AF en cada caso.\n"
   ]
  },
  {
   "cell_type": "code",
   "execution_count": 37,
   "metadata": {},
   "outputs": [],
   "source": [
    "import math\n",
    "import numpy as np\n",
    "from sympy import symbols, plot, sin, cos\n",
    "\n",
    "import sage\n"
   ]
  },
  {
   "cell_type": "code",
   "execution_count": 38,
   "metadata": {},
   "outputs": [],
   "source": [
    "pi = math.pi\n",
    "    \n",
    "N = 2 # numero de elementos\n",
    "d_l = symbols('d_l') # l = longitud de onda; d = separacion entre elementos"
   ]
  },
  {
   "cell_type": "markdown",
   "metadata": {},
   "source": [
    " a) para el caso de φ = π/2 y para el máximo de la función del conjunto (AF), obtener en ese caso d/λ y α."
   ]
  },
  {
   "cell_type": "markdown",
   "metadata": {},
   "source": [
    "El maximo principal se encuentra en N*psi/2 = 0 => psi = 0 sii cos(phi) = -alpha/beta*d\n",
    "\n",
    "En este caso, cuando phi = pi/2 => alpha = 0. Conocida como la condicion de **Broadside**."
   ]
  },
  {
   "cell_type": "code",
   "execution_count": 39,
   "metadata": {},
   "outputs": [
    {
     "name": "stderr",
     "output_type": "stream",
     "text": [
      "/home/nandroid/.local/lib/python3.7/site-packages/sympy/plotting/plot.py:1065: MatplotlibDeprecationWarning: \n",
      "The set_smart_bounds function was deprecated in Matplotlib 3.2 and will be removed two minor releases later.\n",
      "  self.ax[i].spines['left'].set_smart_bounds(True)\n",
      "/home/nandroid/.local/lib/python3.7/site-packages/sympy/plotting/plot.py:1066: MatplotlibDeprecationWarning: \n",
      "The set_smart_bounds function was deprecated in Matplotlib 3.2 and will be removed two minor releases later.\n",
      "  self.ax[i].spines['bottom'].set_smart_bounds(False)\n"
     ]
    },
    {
     "data": {
      "image/png": "[encoded data removed]",
      "text/plain": [
       "<Figure size 432x288 with 1 Axes>"
      ]
     },
     "metadata": {
      "needs_background": "light"
     },
     "output_type": "display_data"
    },
    {
     "data": {
      "text/plain": [
       "<sympy.plotting.plot.Plot at 0x7efc1c8dd310>"
      ]
     },
     "execution_count": 39,
     "metadata": {},
     "output_type": "execute_result"
    }
   ],
   "source": [
    "phi = pi/2\n",
    "alpha = 0 # alpha\n",
    "\n",
    "AF = (1/N)*sin(pi*d_l*cos(phi))/sin(2*pi*cos(phi))\n",
    "\n",
    "plot(AF,(d_l,0,1))"
   ]
  }
 ],
 "metadata": {
  "kernelspec": {
   "display_name": "Python 3",
   "language": "python",
   "name": "python3"
  },
  "language_info": {
   "codemirror_mode": {
    "name": "ipython",
    "version": 3
   },
   "file_extension": ".py",
   "mimetype": "text/x-python",
   "name": "python",
   "nbconvert_exporter": "python",
   "pygments_lexer": "ipython3",
   "version": "3.7.5"
  }
 },
 "nbformat": 4,
 "nbformat_minor": 4
}
