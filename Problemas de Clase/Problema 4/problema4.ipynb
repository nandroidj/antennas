{
 "cells": [
  {
   "cell_type": "markdown",
   "metadata": {},
   "source": [
    "Considere dos focos isotrópicos, alimentados por la intensidad de corriente I0 , separados por una distancia d, que operan a una longitud de onda λ, y un observador lejos de los focos, con las fases de cada foco como se encuentran en la siguiente Figura:\n",
    "\n",
    "\n",
    "Se pide:\n",
    "\n",
    "a) para el caso de φ = π/2 y para el máximo de la función del conjunto (AF), obtener en ese caso d/λ y α.\n",
    "\n",
    "b) para el caso de φ = 0 y para el máximo de la función del conjunto, obtener en ese caso d/λ y α\n",
    "\n",
    "Nota: Representar graficamente la función del conjunto AF (x, y) considerando las variables x = d/λ y y = α donde se pueda observar el máximo de AF en cada caso.\n"
   ]
  },
  {
   "cell_type": "code",
   "execution_count": 53,
   "metadata": {},
   "outputs": [],
   "source": [
    "import math\n",
    "import numpy as np\n",
    "from sympy import symbols, plot, sin, cos\n",
    "from sympy.plotting import plot_parametric"
   ]
  },
  {
   "cell_type": "code",
   "execution_count": 47,
   "metadata": {},
   "outputs": [],
   "source": [
    "pi = math.pi\n",
    "\n",
    "N = 2 # numero de elementos\n",
    "d_l = symbols('d_l') # l = longitud de onda; d = separacion entre elementos"
   ]
  },
  {
   "cell_type": "markdown",
   "metadata": {},
   "source": [
    " a) para el caso de φ = π/2 y para el máximo de la función del conjunto (AF), obtener en ese caso d/λ y α."
   ]
  },
  {
   "cell_type": "markdown",
   "metadata": {},
   "source": [
    "El maximo principal se encuentra en N*psi/2 = 0 => psi = 0 sii cos(phi) = -alpha/beta*d\n",
    "\n",
    "En este caso, cuando phi = pi/2 => alpha = 0. Conocida como la condicion de **Broadside**."
   ]
  },
  {
   "cell_type": "code",
   "execution_count": 51,
   "metadata": {},
   "outputs": [
    {
     "data": {
      "image/png": "[encoded data removed]",
      "text/plain": [
       "<Figure size 432x288 with 1 Axes>"
      ]
     },
     "metadata": {
      "needs_background": "light"
     },
     "output_type": "display_data"
    },
    {
     "data": {
      "text/plain": [
       "<sympy.plotting.plot.Plot at 0x7efc15ef94d0>"
      ]
     },
     "execution_count": 51,
     "metadata": {},
     "output_type": "execute_result"
    }
   ],
   "source": [
    "phi = pi/2\n",
    "alpha = 0 # alpha\n",
    "\n",
    "AF = (1/N)*sin(pi*1/2*cos(phi))/sin(2*pi*cos(phi))\n",
    "\n",
    "theta = symbols('theta')\n",
    "\n",
    "plot_parametric(AF*cos(theta), AF*sin(theta), (theta,0,2*pi))\n",
    "\n",
    "#plot3d(AF,(d_l,0,1))"
   ]
  },
  {
   "cell_type": "code",
   "execution_count": 52,
   "metadata": {},
   "outputs": [
    {
     "ename": "NameError",
     "evalue": "name 'var' is not defined",
     "output_type": "error",
     "traceback": [
      "\u001b[0;31m---------------------------------------------------------------------------\u001b[0m",
      "\u001b[0;31mNameError\u001b[0m                                 Traceback (most recent call last)",
      "\u001b[0;32m<ipython-input-52-c27dc53381fc>\u001b[0m in \u001b[0;36m<module>\u001b[0;34m\u001b[0m\n\u001b[0;32m----> 1\u001b[0;31m \u001b[0msage\u001b[0m\u001b[0;34m:\u001b[0m \u001b[0mvar\u001b[0m\u001b[0;34m(\u001b[0m\u001b[0;34m'x'\u001b[0m\u001b[0;34m)\u001b[0m\u001b[0;34m\u001b[0m\u001b[0;34m\u001b[0m\u001b[0m\n\u001b[0m",
      "\u001b[0;31mNameError\u001b[0m: name 'var' is not defined"
     ]
    }
   ],
   "source": [
    "sage: var('x')"
   ]
  },
  {
   "cell_type": "code",
   "execution_count": null,
   "metadata": {},
   "outputs": [],
   "source": []
  }
 ],
 "metadata": {
  "kernelspec": {
   "display_name": "Python 3",
   "language": "python",
   "name": "python3"
  },
  "language_info": {
   "codemirror_mode": {
    "name": "ipython",
    "version": 3
   },
   "file_extension": ".py",
   "mimetype": "text/x-python",
   "name": "python",
   "nbconvert_exporter": "python",
   "pygments_lexer": "ipython3",
   "version": "3.7.5"
  }
 },
 "nbformat": 4,
 "nbformat_minor": 4
}
